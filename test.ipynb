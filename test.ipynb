{
 "cells": [
  {
   "cell_type": "code",
   "execution_count": 11,
   "metadata": {},
   "outputs": [
    {
     "name": "stdout",
     "output_type": "stream",
     "text": [
      "Average time to multiply a 3000x1 vector with a 3000x3000 matrix over 1 trials: 0.048934 seconds\n"
     ]
    }
   ],
   "source": [
    "import numpy as np\n",
    "import timeit\n",
    "\n",
    "# 设置矩阵和向量的大小\n",
    "N = 3000\n",
    "\n",
    "# 创建一个 3000x1 的向量和 3000x3000 的矩阵，元素类型为 int64\n",
    "vector = np.random.randint(0, 1000, size=(1, N), dtype=np.int64)\n",
    "matrix = np.random.randint(0, 1000, size=(N, N), dtype=np.int64)\n",
    "\n",
    "# 定义一个执行乘法的函数\n",
    "def multiply():\n",
    "    np.dot(vector,matrix)\n",
    "\n",
    "# 测量执行 1000 次乘法操作的时间\n",
    "num_trials = 10\n",
    "time_taken = timeit.timeit(multiply, number=num_trials)\n",
    "\n",
    "# 计算平均时间\n",
    "average_time = time_taken / num_trials\n",
    "print(f\"Average time to multiply a {N}x1 vector with a {N}x{N} matrix over {num_trials} trials: {average_time:.6f} seconds\")\n"
   ]
  },
  {
   "cell_type": "code",
   "execution_count": 9,
   "metadata": {},
   "outputs": [
    {
     "data": {
      "text/plain": [
       "array([[759897107, 752671255, 764726174, ..., 736890825, 750247939,\n",
       "        758816023]])"
      ]
     },
     "execution_count": 9,
     "metadata": {},
     "output_type": "execute_result"
    }
   ],
   "source": [
    "vector = np.random.randint(0, 1000, size=(1, N), dtype=np.int64)\n",
    "matrix = np.random.randint(0, 1000, size=(N, N), dtype=np.int64)\n",
    "np.dot(vector,matrix)"
   ]
  }
 ],
 "metadata": {
  "kernelspec": {
   "display_name": "Python 3",
   "language": "python",
   "name": "python3"
  },
  "language_info": {
   "codemirror_mode": {
    "name": "ipython",
    "version": 3
   },
   "file_extension": ".py",
   "mimetype": "text/x-python",
   "name": "python",
   "nbconvert_exporter": "python",
   "pygments_lexer": "ipython3",
   "version": "3.10.12"
  }
 },
 "nbformat": 4,
 "nbformat_minor": 2
}
